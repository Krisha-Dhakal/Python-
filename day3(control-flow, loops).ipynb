{
 "cells": [
  {
   "cell_type": "markdown",
   "id": "1920700e-75fb-48e9-8143-3ca17016cd75",
   "metadata": {},
   "source": [
    "## Python if statement"
   ]
  },
  {
   "cell_type": "code",
   "execution_count": 2,
   "id": "ae09d75d-2792-4235-baba-3f1ae21638f3",
   "metadata": {},
   "outputs": [
    {
     "name": "stdout",
     "output_type": "stream",
     "text": [
      "You can enter party\n"
     ]
    }
   ],
   "source": [
    "age = 19\n",
    "if age>18:\n",
    "    print('You can enter party')"
   ]
  },
  {
   "cell_type": "markdown",
   "id": "34300610-7fe1-425f-be94-f6768cbf47a4",
   "metadata": {},
   "source": [
    "## Python if..else statement"
   ]
  },
  {
   "cell_type": "code",
   "execution_count": 8,
   "id": "e4f888aa-6ab3-4242-b9ea-a3ad751e467f",
   "metadata": {},
   "outputs": [
    {
     "name": "stdout",
     "output_type": "stream",
     "text": [
      "Move on\n"
     ]
    }
   ],
   "source": [
    "age = 10\n",
    "if age>18:\n",
    "    print('You can enter party')\n",
    "else:\n",
    "    print('Move on')"
   ]
  },
  {
   "cell_type": "markdown",
   "id": "5a794f38-279b-4663-a0ed-4227a93f61ab",
   "metadata": {},
   "source": [
    "## Python if..elif..else statement"
   ]
  },
  {
   "cell_type": "code",
   "execution_count": 15,
   "id": "cc89c6a9-b573-4670-9798-811ce2fd37d1",
   "metadata": {},
   "outputs": [
    {
     "name": "stdout",
     "output_type": "stream",
     "text": [
      "You are at right age and can enter the party\n"
     ]
    }
   ],
   "source": [
    "age = 18\n",
    "if age>18:\n",
    "    print('You can enter party')\n",
    "elif age==18:\n",
    "    print('You are at right age and can enter the party')\n",
    "else:\n",
    "    print('Move on')"
   ]
  },
  {
   "cell_type": "code",
   "execution_count": 23,
   "id": "3a3637ea-355a-4896-aaf8-f81a6615fd80",
   "metadata": {},
   "outputs": [
    {
     "name": "stdin",
     "output_type": "stream",
     "text": [
      "Enter the 1st number 3\n",
      "Enter the 2nd number 2\n",
      "Enter the 3rd number 5\n"
     ]
    },
    {
     "name": "stdout",
     "output_type": "stream",
     "text": [
      "The greater number is 5\n"
     ]
    }
   ],
   "source": [
    "x = int(input('Enter the 1st number'))\n",
    "y = int(input('Enter the 2nd number'))\n",
    "z = int(input('Enter the 3rd number'))\n",
    "\n",
    "if x>y and x>z:\n",
    "    print('The greater number is', x)\n",
    "elif y>x and y>z:\n",
    "    print('The greater number is', y)\n",
    "else:\n",
    "    print('The greater number is', z)\n",
    "    "
   ]
  },
  {
   "cell_type": "markdown",
   "id": "148a62e8-49ba-4bdf-80a2-3eb938625d37",
   "metadata": {},
   "source": [
    "## Python ternary operator"
   ]
  },
  {
   "cell_type": "code",
   "execution_count": 1,
   "id": "f19bcb97-583c-42a2-8f2d-4d34c704eb14",
   "metadata": {},
   "outputs": [
    {
     "name": "stdout",
     "output_type": "stream",
     "text": [
      "Adult\n"
     ]
    }
   ],
   "source": [
    "#do it yourself\n",
    "age = 18\n",
    "status = \"Adult\" if age >= 18 else \"Minor\"\n",
    "print(status)"
   ]
  },
  {
   "cell_type": "markdown",
   "id": "471e2986-995b-41c6-a18c-c61111a9ec10",
   "metadata": {},
   "source": [
    "## Python Loops: for and while"
   ]
  },
  {
   "cell_type": "code",
   "execution_count": 29,
   "id": "88a2b77a-09fb-4409-91ba-366ae8618387",
   "metadata": {},
   "outputs": [
    {
     "name": "stdout",
     "output_type": "stream",
     "text": [
      "u\n",
      "n\n",
      "i\n",
      "v\n",
      "e\n",
      "r\n",
      "s\n",
      "i\n",
      "t\n",
      "y\n"
     ]
    }
   ],
   "source": [
    "# for loop\n",
    "for i in 'university':\n",
    "    print(i)"
   ]
  },
  {
   "cell_type": "code",
   "execution_count": 31,
   "id": "2aec582b-00e3-4cf7-a101-33b0a52022e6",
   "metadata": {},
   "outputs": [
    {
     "name": "stdout",
     "output_type": "stream",
     "text": [
      "apple\n",
      "banana\n",
      "cherry\n"
     ]
    }
   ],
   "source": [
    "# For Loop\n",
    "# Iterating over a list\n",
    "fruits = [\"apple\", \"banana\", \"cherry\"]\n",
    "for fruit in fruits:\n",
    "    print(fruit)"
   ]
  },
  {
   "cell_type": "code",
   "execution_count": 33,
   "id": "034c7a0e-bf92-4a7c-b869-a66a012cafdd",
   "metadata": {},
   "outputs": [
    {
     "name": "stdout",
     "output_type": "stream",
     "text": [
      "0\n",
      "1\n",
      "2\n",
      "3\n",
      "4\n"
     ]
    }
   ],
   "source": [
    "# While loop\n",
    "# Iterating until a condition is met\n",
    "i = 0\n",
    "while i < 5:\n",
    "    print(i)\n",
    "    i += 1"
   ]
  },
  {
   "cell_type": "code",
   "execution_count": 35,
   "id": "ef400dfd-e2a5-44df-9c96-57a74aa1e982",
   "metadata": {},
   "outputs": [
    {
     "name": "stdout",
     "output_type": "stream",
     "text": [
      "0\n",
      "1\n",
      "2\n",
      "3\n",
      "4\n"
     ]
    }
   ],
   "source": [
    "# Looping through a range of numbers\n",
    "for i in range(5):\n",
    "    print(i)"
   ]
  },
  {
   "cell_type": "code",
   "execution_count": 37,
   "id": "c144127d-7991-41b9-a74d-0d4ee51293f6",
   "metadata": {},
   "outputs": [
    {
     "name": "stdin",
     "output_type": "stream",
     "text": [
      "Enter something (or 'stop' to quit):  hello\n",
      "Enter something (or 'stop' to quit):  stop\n"
     ]
    }
   ],
   "source": [
    "# Continue looping until the user enters 'stop'\n",
    "user_input = \"\"\n",
    "while user_input != \"stop\":\n",
    "    user_input = input(\"Enter something (or 'stop' to quit): \")"
   ]
  },
  {
   "cell_type": "raw",
   "id": "fe91a94e-b52a-4a45-95c6-464e774653de",
   "metadata": {},
   "source": [
    "i=1\n",
    "while i<6:\n",
    "    print(i)\n",
    "# infinte loop aauxa "
   ]
  },
  {
   "cell_type": "code",
   "execution_count": 3,
   "id": "d8f09efc-8129-4663-bf8c-745967bc50ec",
   "metadata": {},
   "outputs": [
    {
     "name": "stdout",
     "output_type": "stream",
     "text": [
      "0\n",
      "1\n",
      "2\n",
      "3\n",
      "4\n",
      "5\n",
      "out of loop\n"
     ]
    }
   ],
   "source": [
    "i=0\n",
    "while i<6:\n",
    "    print(i)\n",
    "    i+=1\n",
    "print('out of loop')"
   ]
  },
  {
   "cell_type": "markdown",
   "id": "6f79ef72-a0f6-4a48-baef-749c0b64323c",
   "metadata": {},
   "source": [
    "## Python Break Statement"
   ]
  },
  {
   "cell_type": "code",
   "execution_count": 12,
   "id": "40053762-b065-4428-a891-4441e7f9ccbe",
   "metadata": {},
   "outputs": [
    {
     "name": "stdout",
     "output_type": "stream",
     "text": [
      "0\n",
      "1\n",
      "2\n",
      "3\n"
     ]
    }
   ],
   "source": [
    "i=0\n",
    "while i<6:\n",
    "    print(i)\n",
    "    i+=1\n",
    "    if i==4:\n",
    "        break"
   ]
  },
  {
   "cell_type": "code",
   "execution_count": 28,
   "id": "8ddb2bfa-675a-4460-854e-a870ba1031c4",
   "metadata": {},
   "outputs": [
    {
     "name": "stdout",
     "output_type": "stream",
     "text": [
      "0\n",
      "1\n",
      "2\n",
      "3\n",
      "4\n",
      "5\n",
      "6\n",
      "7\n",
      "8\n",
      "9\n",
      "10\n",
      "11\n",
      "12\n",
      "13\n",
      "14\n",
      "15\n",
      "16\n"
     ]
    }
   ],
   "source": [
    "for i in range(0,22):\n",
    "    if(i==17):\n",
    "        break\n",
    "    else:\n",
    "        print(i)"
   ]
  },
  {
   "cell_type": "code",
   "execution_count": 39,
   "id": "ed48b938-fb9b-421b-922f-546e009fe173",
   "metadata": {},
   "outputs": [
    {
     "name": "stdout",
     "output_type": "stream",
     "text": [
      "1\n",
      "2\n",
      "3\n"
     ]
    }
   ],
   "source": [
    "i =0\n",
    "while i<5:\n",
    "    i+=1\n",
    "    if i==4:\n",
    "        break\n",
    "    else:\n",
    "        print(i)"
   ]
  },
  {
   "cell_type": "markdown",
   "id": "0171b235-6ddd-49e2-a96c-d73c76de8901",
   "metadata": {},
   "source": [
    "## Python continue statement"
   ]
  },
  {
   "cell_type": "code",
   "execution_count": 44,
   "id": "eb7f9573-1e94-4fe5-b9c9-cc8e5ebf57ea",
   "metadata": {},
   "outputs": [
    {
     "name": "stdout",
     "output_type": "stream",
     "text": [
      "1\n",
      "2\n",
      "3\n",
      "4\n",
      "6\n",
      "7\n",
      "8\n",
      "9\n",
      "10\n"
     ]
    }
   ],
   "source": [
    "i =0\n",
    "while i<10:\n",
    "    i+=1\n",
    "    if i==5:\n",
    "        continue\n",
    "    else:\n",
    "        print(i)"
   ]
  },
  {
   "cell_type": "markdown",
   "id": "74646435-d9a7-45b1-b0c4-79858e631731",
   "metadata": {},
   "source": [
    "## Python Pass Statement\n",
    "####  pass statement in Python is a placeholder that does nothing"
   ]
  },
  {
   "cell_type": "code",
   "execution_count": 4,
   "id": "5e8ed498-03f8-49bd-b712-e53427bbc558",
   "metadata": {},
   "outputs": [
    {
     "name": "stdout",
     "output_type": "stream",
     "text": [
      "Adult\n"
     ]
    }
   ],
   "source": [
    "age=16\n",
    "if age >= 18:\n",
    "    status=\"Adult\"\n",
    "else:\n",
    "    pass # do nothing\n",
    "\n",
    "print(status)"
   ]
  },
  {
   "cell_type": "markdown",
   "id": "7f3c0d9c-466c-454d-9cae-6634fd98eed9",
   "metadata": {},
   "source": [
    "## Python Nested Loop"
   ]
  },
  {
   "cell_type": "code",
   "execution_count": 52,
   "id": "3161c89a-6386-41bf-aa5f-98a7c3c102b2",
   "metadata": {},
   "outputs": [
    {
     "name": "stdout",
     "output_type": "stream",
     "text": [
      "bmw apple\n",
      "bmw banana\n",
      "bmw mango\n",
      "tata apple\n",
      "tata banana\n",
      "tata mango\n",
      "ford apple\n",
      "ford banana\n",
      "ford mango\n"
     ]
    }
   ],
   "source": [
    "cars=['bmw','tata','ford']\n",
    "fruits=['apple','banana','mango']\n",
    "\n",
    "for x in cars:\n",
    "    for y in fruits:\n",
    "        print(x,y)"
   ]
  },
  {
   "cell_type": "markdown",
   "id": "d5b423f1-5e9e-44fc-9662-ff4e1a9a2fed",
   "metadata": {},
   "source": [
    "## Looping Technique : zip"
   ]
  },
  {
   "cell_type": "code",
   "execution_count": 67,
   "id": "2e1a7969-22b3-42df-b035-ef0ba1c791c2",
   "metadata": {},
   "outputs": [
    {
     "name": "stdout",
     "output_type": "stream",
     "text": [
      "a1 b1\n",
      "a2 b2\n"
     ]
    }
   ],
   "source": [
    "list_A = ['a1','a2']\n",
    "list_B = ['b1','b2','b3']\n",
    "\n",
    "for a, b in zip(list_A, list_B):\n",
    "    print(a,b)"
   ]
  },
  {
   "cell_type": "code",
   "execution_count": 69,
   "id": "a1ad3e56-cf3e-4cb5-bbd6-1205db8264b2",
   "metadata": {},
   "outputs": [
    {
     "name": "stdout",
     "output_type": "stream",
     "text": [
      "a1 b1\n",
      "a2 b2\n"
     ]
    }
   ],
   "source": [
    "list_A = ['a1','a2','a3','a4']\n",
    "list_B = ['b1','b2']\n",
    "for a, b in zip(list_A, list_B):\n",
    "    print(a,b)"
   ]
  },
  {
   "cell_type": "markdown",
   "id": "9f1b9e97-35b0-4040-a3ef-384d1b35298e",
   "metadata": {},
   "source": [
    "## Looping Technique : enumerate"
   ]
  },
  {
   "cell_type": "code",
   "execution_count": 72,
   "id": "5c5409b2-6afb-4987-a500-e4a5905eaf84",
   "metadata": {},
   "outputs": [
    {
     "name": "stdout",
     "output_type": "stream",
     "text": [
      "(0, 'list1')\n",
      "(1, 'list2')\n",
      "(2, 'list3')\n"
     ]
    }
   ],
   "source": [
    "my_list=['list1','list2','list3']\n",
    "for item in enumerate(my_list):\n",
    "    print(item)"
   ]
  },
  {
   "cell_type": "code",
   "execution_count": 74,
   "id": "cca39ff6-2dee-4654-9e19-32a572c39ccf",
   "metadata": {},
   "outputs": [
    {
     "name": "stdout",
     "output_type": "stream",
     "text": [
      "(0, 'a')\n",
      "(1, 'b')\n",
      "(2, 'c')\n",
      "(3, 'd')\n"
     ]
    }
   ],
   "source": [
    "a=['a','b','c','d']\n",
    "for item in enumerate(a):\n",
    "    print(item)"
   ]
  },
  {
   "cell_type": "markdown",
   "id": "665a7947-c94e-41b2-9201-ab7f76e64b44",
   "metadata": {},
   "source": [
    "### Exercise: WAP to take input from user and find out the shortest element"
   ]
  },
  {
   "cell_type": "code",
   "execution_count": 82,
   "id": "dcb4d9f1-755f-4f10-867c-7188868fb19d",
   "metadata": {},
   "outputs": [
    {
     "name": "stdin",
     "output_type": "stream",
     "text": [
      "Enter the 1st number 3\n",
      "Enter the 2nd number 2\n",
      "Enter the 3rd number 5\n"
     ]
    },
    {
     "name": "stdout",
     "output_type": "stream",
     "text": [
      "The shortest number is 2\n"
     ]
    }
   ],
   "source": [
    "x = int(input('Enter the 1st number'))\n",
    "y = int(input('Enter the 2nd number'))\n",
    "z = int(input('Enter the 3rd number'))\n",
    "\n",
    "if x<y and x<z:\n",
    "    print('The shortest number is', x)\n",
    "elif y<x and y<z:\n",
    "    print('The shortest number is', y)\n",
    "else:\n",
    "    print('The shortest number is', z)"
   ]
  },
  {
   "cell_type": "markdown",
   "id": "f1d36c68-2e59-480d-836b-0545b703406e",
   "metadata": {},
   "source": [
    "### Iterate over the list fruit = ['apple','banana','cherry']"
   ]
  },
  {
   "cell_type": "code",
   "execution_count": 84,
   "id": "193ac298-5456-4ae8-8146-2501eb1616f9",
   "metadata": {},
   "outputs": [
    {
     "name": "stdout",
     "output_type": "stream",
     "text": [
      "apple\n",
      "banana\n",
      "cherry\n"
     ]
    }
   ],
   "source": [
    "# Iterating over a list\n",
    "fruits = [\"apple\", \"banana\", \"cherry\"]\n",
    "for fruit in fruits:\n",
    "    print(fruit)"
   ]
  },
  {
   "cell_type": "markdown",
   "id": "c306396a-9fe3-4b58-ba30-388422e16874",
   "metadata": {},
   "source": [
    "### Show use case of break and continue"
   ]
  },
  {
   "cell_type": "code",
   "execution_count": 88,
   "id": "9c6b04a2-2709-4099-9129-1da062e69da0",
   "metadata": {},
   "outputs": [
    {
     "name": "stdout",
     "output_type": "stream",
     "text": [
      "1\n",
      "2\n",
      "3\n",
      "4\n",
      "6\n",
      "7\n"
     ]
    }
   ],
   "source": [
    "i=0\n",
    "while i<10:\n",
    "    i+=1\n",
    "    if i==5:\n",
    "        continue\n",
    "    elif i==8:\n",
    "        break\n",
    "    else:\n",
    "        print(i)"
   ]
  },
  {
   "cell_type": "code",
   "execution_count": null,
   "id": "80f73b8b-46dd-4a9d-b774-7a8fe28c6846",
   "metadata": {},
   "outputs": [],
   "source": []
  }
 ],
 "metadata": {
  "kernelspec": {
   "display_name": "Python 3 (ipykernel)",
   "language": "python",
   "name": "python3"
  },
  "language_info": {
   "codemirror_mode": {
    "name": "ipython",
    "version": 3
   },
   "file_extension": ".py",
   "mimetype": "text/x-python",
   "name": "python",
   "nbconvert_exporter": "python",
   "pygments_lexer": "ipython3",
   "version": "3.12.4"
  }
 },
 "nbformat": 4,
 "nbformat_minor": 5
}
