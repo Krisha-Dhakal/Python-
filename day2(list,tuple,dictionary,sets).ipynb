{
 "cells": [
  {
   "cell_type": "markdown",
   "id": "e0461040-1789-4d65-a18f-5e692bd74f6a",
   "metadata": {},
   "source": [
    "## List"
   ]
  },
  {
   "cell_type": "code",
   "execution_count": 2,
   "id": "1d30445d-5e3a-4b4c-98f1-6f5bbee23ab6",
   "metadata": {},
   "outputs": [
    {
     "name": "stdout",
     "output_type": "stream",
     "text": [
      "[1, 2, 3, 4]\n"
     ]
    }
   ],
   "source": [
    "a=[1,2,3,4]\n",
    "print(a)"
   ]
  },
  {
   "cell_type": "code",
   "execution_count": 4,
   "id": "30ffb9da-a753-43ca-9474-a0990c5b24e7",
   "metadata": {},
   "outputs": [
    {
     "name": "stdout",
     "output_type": "stream",
     "text": [
      "<class 'list'>\n"
     ]
    }
   ],
   "source": [
    "print(type(a))"
   ]
  },
  {
   "cell_type": "code",
   "execution_count": 9,
   "id": "50fa50a4-3286-40e2-85ef-461c8ad550bc",
   "metadata": {},
   "outputs": [
    {
     "data": {
      "text/plain": [
       "'apple'"
      ]
     },
     "execution_count": 9,
     "metadata": {},
     "output_type": "execute_result"
    }
   ],
   "source": [
    "Y=[\"apple\", \"banana\",\"cherry\",\"mango\"]\n",
    "Y[0]"
   ]
  },
  {
   "cell_type": "code",
   "execution_count": 13,
   "id": "b610b851-b295-431e-9dcb-e12a90cd5eca",
   "metadata": {},
   "outputs": [
    {
     "data": {
      "text/plain": [
       "'apple'"
      ]
     },
     "execution_count": 13,
     "metadata": {},
     "output_type": "execute_result"
    }
   ],
   "source": [
    "Y[-4]"
   ]
  },
  {
   "cell_type": "markdown",
   "id": "1bc3f627-fe08-45ce-8bd1-b9cb95601dd6",
   "metadata": {},
   "source": [
    "## List Slicing"
   ]
  },
  {
   "cell_type": "code",
   "execution_count": 16,
   "id": "57d7af9b-606d-4f2c-a111-12abb57c848b",
   "metadata": {},
   "outputs": [
    {
     "data": {
      "text/plain": [
       "[0, 1, 2]"
      ]
     },
     "execution_count": 16,
     "metadata": {},
     "output_type": "execute_result"
    }
   ],
   "source": [
    "L=[0,1,2,3,4,5,6]\n",
    "L[:3]"
   ]
  },
  {
   "cell_type": "code",
   "execution_count": 20,
   "id": "ed4f5877-c1fd-4928-9551-feb9cb019b6c",
   "metadata": {},
   "outputs": [
    {
     "data": {
      "text/plain": [
       "[0, 1, 2, 3, 4]"
      ]
     },
     "execution_count": 20,
     "metadata": {},
     "output_type": "execute_result"
    }
   ],
   "source": [
    "L[0:5]"
   ]
  },
  {
   "cell_type": "code",
   "execution_count": 22,
   "id": "613b94ef-c5d9-48ba-abb7-840a9f21e29d",
   "metadata": {},
   "outputs": [
    {
     "data": {
      "text/plain": [
       "[0, 1, 2, 3, 4, 5, 6]"
      ]
     },
     "execution_count": 22,
     "metadata": {},
     "output_type": "execute_result"
    }
   ],
   "source": [
    "L[:]"
   ]
  },
  {
   "cell_type": "code",
   "execution_count": 24,
   "id": "73ab8210-a73a-4367-a49a-6b7517c1823d",
   "metadata": {},
   "outputs": [
    {
     "data": {
      "text/plain": [
       "[4, 5, 6]"
      ]
     },
     "execution_count": 24,
     "metadata": {},
     "output_type": "execute_result"
    }
   ],
   "source": [
    "L[4:]"
   ]
  },
  {
   "cell_type": "code",
   "execution_count": 28,
   "id": "f2414be8-d3bf-4791-a373-f3c8f179482d",
   "metadata": {},
   "outputs": [
    {
     "data": {
      "text/plain": [
       "[0, 2, 4, 6]"
      ]
     },
     "execution_count": 28,
     "metadata": {},
     "output_type": "execute_result"
    }
   ],
   "source": [
    "L[::2]"
   ]
  },
  {
   "cell_type": "code",
   "execution_count": 32,
   "id": "0d2942ea-2ae7-438d-993a-4c5acb4a17b3",
   "metadata": {},
   "outputs": [
    {
     "data": {
      "text/plain": [
       "[6, 5, 4, 3, 2, 1, 0]"
      ]
     },
     "execution_count": 32,
     "metadata": {},
     "output_type": "execute_result"
    }
   ],
   "source": [
    "L[::-1]"
   ]
  },
  {
   "cell_type": "code",
   "execution_count": 34,
   "id": "9dbd818e-7042-4b75-bf90-abfc9ef6a322",
   "metadata": {},
   "outputs": [
    {
     "data": {
      "text/plain": [
       "['banana', 'mango']"
      ]
     },
     "execution_count": 34,
     "metadata": {},
     "output_type": "execute_result"
    }
   ],
   "source": [
    "Y[1:4:2]"
   ]
  },
  {
   "cell_type": "markdown",
   "id": "57d7724e-9c5a-4f96-a4a2-a7ebca3a89f4",
   "metadata": {},
   "source": [
    "## Nested List: List are mutable"
   ]
  },
  {
   "cell_type": "code",
   "execution_count": 39,
   "id": "a5527b5e-5a5b-4b72-9ff9-3ed02cd83d62",
   "metadata": {},
   "outputs": [],
   "source": [
    "X=['a',['b',['bb','cc']],'d','e','f']"
   ]
  },
  {
   "cell_type": "code",
   "execution_count": 41,
   "id": "3d338cbe-4f63-4ef0-bb41-d8785c61789a",
   "metadata": {},
   "outputs": [
    {
     "data": {
      "text/plain": [
       "[10, 'banana', 'cherry', 'mango']"
      ]
     },
     "execution_count": 41,
     "metadata": {},
     "output_type": "execute_result"
    }
   ],
   "source": [
    "Y[0]=10\n",
    "Y"
   ]
  },
  {
   "cell_type": "code",
   "execution_count": 45,
   "id": "8a2eb548-a397-43c6-9b3d-2bbb2e312ffc",
   "metadata": {},
   "outputs": [
    {
     "data": {
      "text/plain": [
       "[10, 'banana', 'cherry', 'Ford']"
      ]
     },
     "execution_count": 45,
     "metadata": {},
     "output_type": "execute_result"
    }
   ],
   "source": [
    "Y[3]='Ford'\n",
    "Y"
   ]
  },
  {
   "cell_type": "code",
   "execution_count": 47,
   "id": "24e09faf-358b-4ea4-ab35-07b7f91b4ac4",
   "metadata": {},
   "outputs": [
    {
     "data": {
      "text/plain": [
       "[10, 'banana', 30.2, 'Ford']"
      ]
     },
     "execution_count": 47,
     "metadata": {},
     "output_type": "execute_result"
    }
   ],
   "source": [
    "Y[2]=30.2\n",
    "Y"
   ]
  },
  {
   "cell_type": "raw",
   "id": "388fe408-820e-486e-89a5-87c1abec4de3",
   "metadata": {},
   "source": [
    "Y[4]='hello' # cannot be implemented cause index out of range"
   ]
  },
  {
   "cell_type": "code",
   "execution_count": 56,
   "id": "f4c5d537-015f-4bd4-8268-d0a56bc6ae8f",
   "metadata": {},
   "outputs": [
    {
     "data": {
      "text/plain": [
       "['apple', 'banana', 'cherry', 'mango', 'peanut', 'bean']"
      ]
     },
     "execution_count": 56,
     "metadata": {},
     "output_type": "execute_result"
    }
   ],
   "source": [
    "Y=[\"apple\", \"banana\",\"cherry\",\"mango\"]\n",
    "Y += [\"peanut\",\"bean\"]\n",
    "Y"
   ]
  },
  {
   "cell_type": "markdown",
   "id": "1f0cc2d1-a503-422a-9774-716aa8c21c62",
   "metadata": {},
   "source": [
    "## tuple"
   ]
  },
  {
   "cell_type": "code",
   "execution_count": 63,
   "id": "b1b55aa7-468f-4712-92ff-bbfd6428ff42",
   "metadata": {},
   "outputs": [
    {
     "name": "stdout",
     "output_type": "stream",
     "text": [
      "<class 'tuple'>\n"
     ]
    }
   ],
   "source": [
    "X=('mamgo', 1992, 3.14,True, [1,2],(1,1,(3,2)))\n",
    "print(type(X))"
   ]
  },
  {
   "cell_type": "code",
   "execution_count": 71,
   "id": "bba2327f-854a-48c9-9c98-f48ccdc6db3a",
   "metadata": {},
   "outputs": [
    {
     "name": "stdout",
     "output_type": "stream",
     "text": [
      "1\n",
      "<class 'int'>\n"
     ]
    }
   ],
   "source": [
    "X=(1)\n",
    "print(X)\n",
    "print(type(X))"
   ]
  },
  {
   "cell_type": "code",
   "execution_count": 75,
   "id": "f221bfb5-f4de-4841-8e78-b9be520b9e53",
   "metadata": {},
   "outputs": [
    {
     "name": "stdout",
     "output_type": "stream",
     "text": [
      "(1,)\n",
      "<class 'tuple'>\n"
     ]
    }
   ],
   "source": [
    "# without round bracket\n",
    "X=1,\n",
    "print(X)\n",
    "print(type(X))"
   ]
  },
  {
   "cell_type": "code",
   "execution_count": 73,
   "id": "271ef2b4-f344-49d1-a699-1c62739d52e4",
   "metadata": {},
   "outputs": [
    {
     "name": "stdout",
     "output_type": "stream",
     "text": [
      "(1,)\n",
      "<class 'tuple'>\n"
     ]
    }
   ],
   "source": [
    "# singleton tuple\n",
    "X=(1,)\n",
    "print(X)\n",
    "print(type(X))"
   ]
  },
  {
   "cell_type": "markdown",
   "id": "1c8d2b63-eae7-4919-acad-b22c17435ee4",
   "metadata": {},
   "source": [
    "## Tuple packing and unpacking"
   ]
  },
  {
   "cell_type": "markdown",
   "id": "f9d8f2a3-b61e-46da-aef9-f9776b88a52b",
   "metadata": {},
   "source": [
    "## Range"
   ]
  },
  {
   "cell_type": "code",
   "execution_count": 80,
   "id": "02a2fdb6-0dfa-4bc8-8a56-aecf7dddb571",
   "metadata": {},
   "outputs": [
    {
     "data": {
      "text/plain": [
       "[0, 1, 2, 3, 4, 5, 6, 7, 8, 9]"
      ]
     },
     "execution_count": 80,
     "metadata": {},
     "output_type": "execute_result"
    }
   ],
   "source": [
    "list(range(10))"
   ]
  },
  {
   "cell_type": "code",
   "execution_count": 83,
   "id": "395b47f8-5313-42e1-a98f-f5bc4566b084",
   "metadata": {},
   "outputs": [
    {
     "data": {
      "text/plain": [
       "[50,\n",
       " 51,\n",
       " 52,\n",
       " 53,\n",
       " 54,\n",
       " 55,\n",
       " 56,\n",
       " 57,\n",
       " 58,\n",
       " 59,\n",
       " 60,\n",
       " 61,\n",
       " 62,\n",
       " 63,\n",
       " 64,\n",
       " 65,\n",
       " 66,\n",
       " 67,\n",
       " 68,\n",
       " 69,\n",
       " 70,\n",
       " 71,\n",
       " 72,\n",
       " 73,\n",
       " 74,\n",
       " 75,\n",
       " 76,\n",
       " 77,\n",
       " 78,\n",
       " 79,\n",
       " 80,\n",
       " 81,\n",
       " 82,\n",
       " 83,\n",
       " 84,\n",
       " 85,\n",
       " 86,\n",
       " 87,\n",
       " 88,\n",
       " 89,\n",
       " 90,\n",
       " 91,\n",
       " 92,\n",
       " 93,\n",
       " 94,\n",
       " 95,\n",
       " 96,\n",
       " 97,\n",
       " 98,\n",
       " 99]"
      ]
     },
     "execution_count": 83,
     "metadata": {},
     "output_type": "execute_result"
    }
   ],
   "source": [
    "list(range(50,100))"
   ]
  },
  {
   "cell_type": "code",
   "execution_count": 85,
   "id": "18dcd36e-aa6e-43da-8d4f-9305bcbefb7f",
   "metadata": {},
   "outputs": [
    {
     "data": {
      "text/plain": [
       "[40, 45, 50, 55, 60]"
      ]
     },
     "execution_count": 85,
     "metadata": {},
     "output_type": "execute_result"
    }
   ],
   "source": [
    "list(range(40,61,5))"
   ]
  },
  {
   "cell_type": "markdown",
   "id": "37991be0-bb28-4036-9b72-6331dccacf1f",
   "metadata": {},
   "source": [
    "## Dictionary"
   ]
  },
  {
   "cell_type": "code",
   "execution_count": 88,
   "id": "18b8fe92-a0f0-4d2d-8ad2-e212a4fbf83f",
   "metadata": {},
   "outputs": [
    {
     "name": "stdout",
     "output_type": "stream",
     "text": [
      "{'name': 'john'}\n"
     ]
    }
   ],
   "source": [
    "#single item\n",
    "dict = {\n",
    "    'name':'john'\n",
    "}\n",
    "print(dict)"
   ]
  },
  {
   "cell_type": "code",
   "execution_count": 108,
   "id": "4bc6546e-3de5-4f04-a849-aedf4834cfca",
   "metadata": {},
   "outputs": [
    {
     "name": "stdout",
     "output_type": "stream",
     "text": [
      "{'name': 'john', 'car': 'BYD', 'college': 'nagarjuna'}\n",
      "john\n",
      "dict_keys(['name', 'car', 'college'])\n",
      "dict_values(['john', 'BYD', 'nagarjuna'])\n"
     ]
    }
   ],
   "source": [
    "#multiple item\n",
    "dict = {\n",
    "    'name':'john', \n",
    "    'car':'BYD', \n",
    "    'college':'nagarjuna'\n",
    "}\n",
    "print(dict)\n",
    "print(dict['name'])\n",
    "print(dict.keys())\n",
    "print(dict.values())"
   ]
  },
  {
   "cell_type": "code",
   "execution_count": 102,
   "id": "0409e5e4-6408-4c9c-a18e-b9a245d13c03",
   "metadata": {},
   "outputs": [
    {
     "name": "stdout",
     "output_type": "stream",
     "text": [
      "{14: 'john', 'car': 12, 'college': 'nagarjuna'}\n",
      "john\n"
     ]
    }
   ],
   "source": [
    "# key and value can be of any data type\n",
    "dict = {\n",
    "    14:'john', \n",
    "    'car':12, \n",
    "    'college':'nagarjuna'\n",
    "}\n",
    "print(dict)\n",
    "print(dict[14])"
   ]
  },
  {
   "cell_type": "code",
   "execution_count": 104,
   "id": "5a74c2bb-1d88-41e4-a3ac-b507ec011b8c",
   "metadata": {},
   "outputs": [
    {
     "name": "stdout",
     "output_type": "stream",
     "text": [
      "dict_keys([14, 'car', 'college'])\n"
     ]
    }
   ],
   "source": [
    "print(dict.keys())"
   ]
  },
  {
   "cell_type": "code",
   "execution_count": 106,
   "id": "d47a76da-31f1-4bd6-be93-395bbfe142f6",
   "metadata": {},
   "outputs": [
    {
     "name": "stdout",
     "output_type": "stream",
     "text": [
      "dict_values(['john', 12, 'nagarjuna'])\n"
     ]
    }
   ],
   "source": [
    "print(dict.values())"
   ]
  },
  {
   "cell_type": "code",
   "execution_count": 124,
   "id": "73c0a1c9-2c40-4c91-9394-4f6c710001e5",
   "metadata": {},
   "outputs": [
    {
     "name": "stdout",
     "output_type": "stream",
     "text": [
      "{'name': 'Harry', 'car': 'BYD', 'salary': 12000}\n"
     ]
    }
   ],
   "source": [
    "dict = {\n",
    "    'name':'john', \n",
    "    'car':'BYD', \n",
    "    'college':'nagarjuna'\n",
    "}\n",
    "dict['name']='Harry'\n",
    "dict['college']='KU'\n",
    "dict['salary']=12000\n",
    "dict.pop('college')\n",
    "print(dict)"
   ]
  },
  {
   "cell_type": "code",
   "execution_count": 112,
   "id": "86b0bd48-dd7e-4d06-ba93-f06826042b62",
   "metadata": {},
   "outputs": [
    {
     "data": {
      "text/plain": [
       "{'name': 'John', 'age': 26}"
      ]
     },
     "execution_count": 112,
     "metadata": {},
     "output_type": "execute_result"
    }
   ],
   "source": [
    "info = {'name':'John', 'age':24}\n",
    "info['age']=26\n",
    "info"
   ]
  },
  {
   "cell_type": "code",
   "execution_count": 126,
   "id": "7e8dc78b-8b6e-46a6-a3a5-486b4326f0df",
   "metadata": {},
   "outputs": [
    {
     "data": {
      "text/plain": [
       "{'name': 'John', 'score': 80}"
      ]
     },
     "execution_count": 126,
     "metadata": {},
     "output_type": "execute_result"
    }
   ],
   "source": [
    "# adding new key value pair\n",
    "info['score']=80\n",
    "info.pop('age')\n",
    "info"
   ]
  },
  {
   "cell_type": "markdown",
   "id": "c174da51-a834-43d1-835f-870725f15168",
   "metadata": {},
   "source": [
    "## Sets"
   ]
  },
  {
   "cell_type": "code",
   "execution_count": 133,
   "id": "91c64709-6520-4ccb-b55d-a2d446df26ea",
   "metadata": {},
   "outputs": [],
   "source": [
    "# sets donot allow duplicate items\n",
    "s = {'a', 'b','c','x','a'}"
   ]
  },
  {
   "cell_type": "code",
   "execution_count": 137,
   "id": "398eb62b-8e32-4353-a666-b2defef541cc",
   "metadata": {},
   "outputs": [
    {
     "name": "stdout",
     "output_type": "stream",
     "text": [
      "<class 'set'>\n"
     ]
    }
   ],
   "source": [
    "#converting list to set\n",
    "a=[1,2,3]\n",
    "b=set(a)\n",
    "print(type(b))"
   ]
  },
  {
   "cell_type": "code",
   "execution_count": 139,
   "id": "7d0ef1ea-2af6-4d30-852e-5d87c57e2726",
   "metadata": {},
   "outputs": [
    {
     "name": "stdout",
     "output_type": "stream",
     "text": [
      "<class 'set'>\n"
     ]
    }
   ],
   "source": [
    "#converting tuple to set\n",
    "a=(1,2,3)\n",
    "b=set(a)\n",
    "print(type(b))"
   ]
  },
  {
   "cell_type": "markdown",
   "id": "4dbe9e30-0a6d-40d5-bcc1-bad890b88d36",
   "metadata": {},
   "source": [
    "## Set operations"
   ]
  },
  {
   "cell_type": "code",
   "execution_count": 141,
   "id": "b6189672-976f-409b-a723-6b3474e49d2b",
   "metadata": {},
   "outputs": [
    {
     "data": {
      "text/plain": [
       "{'apple', 'banana', 'carrot', 'lemon', 'mango', 'orange'}"
      ]
     },
     "execution_count": 141,
     "metadata": {},
     "output_type": "execute_result"
    }
   ],
   "source": [
    "A={\"apple\", \"banana\",\"mango\",\"orange\",\"lemon\"}\n",
    "A.add(\"carrot\")\n",
    "A"
   ]
  },
  {
   "cell_type": "code",
   "execution_count": 145,
   "id": "deac7553-eea5-4920-9114-c1936d0e3cf1",
   "metadata": {},
   "outputs": [
    {
     "data": {
      "text/plain": [
       "{'apple', 'banana', 'lemon', 'mango', 'orange'}"
      ]
     },
     "execution_count": 145,
     "metadata": {},
     "output_type": "execute_result"
    }
   ],
   "source": [
    "A.remove(\"carrot\")\n",
    "A"
   ]
  },
  {
   "cell_type": "code",
   "execution_count": 158,
   "id": "8bfa36da-71ff-47fb-be6e-e18e934263ca",
   "metadata": {},
   "outputs": [
    {
     "data": {
      "text/plain": [
       "{'apple', 'banana', 'lemon', 'mango', 'orange', 'pineapple', 'watermelon'}"
      ]
     },
     "execution_count": 158,
     "metadata": {},
     "output_type": "execute_result"
    }
   ],
   "source": [
    "B={\"orange\", \"pineapple\",\"watermelon\", \"lemon\"}\n",
    "A.union(B)"
   ]
  },
  {
   "cell_type": "code",
   "execution_count": 160,
   "id": "96f204f2-059d-4e62-9a6a-fbe281aebf1a",
   "metadata": {},
   "outputs": [
    {
     "data": {
      "text/plain": [
       "{'lemon', 'orange'}"
      ]
     },
     "execution_count": 160,
     "metadata": {},
     "output_type": "execute_result"
    }
   ],
   "source": [
    "A.intersection(B)"
   ]
  },
  {
   "cell_type": "code",
   "execution_count": 162,
   "id": "0521166b-8c68-4e4f-819b-9bbec0896f60",
   "metadata": {},
   "outputs": [
    {
     "data": {
      "text/plain": [
       "{'apple', 'banana', 'mango'}"
      ]
     },
     "execution_count": 162,
     "metadata": {},
     "output_type": "execute_result"
    }
   ],
   "source": [
    "A.difference(B)"
   ]
  },
  {
   "cell_type": "code",
   "execution_count": null,
   "id": "a239f284-4402-42f6-9961-4d895dc7b8b4",
   "metadata": {},
   "outputs": [],
   "source": []
  }
 ],
 "metadata": {
  "kernelspec": {
   "display_name": "Python 3 (ipykernel)",
   "language": "python",
   "name": "python3"
  },
  "language_info": {
   "codemirror_mode": {
    "name": "ipython",
    "version": 3
   },
   "file_extension": ".py",
   "mimetype": "text/x-python",
   "name": "python",
   "nbconvert_exporter": "python",
   "pygments_lexer": "ipython3",
   "version": "3.12.4"
  }
 },
 "nbformat": 4,
 "nbformat_minor": 5
}
