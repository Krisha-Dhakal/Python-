{
 "cells": [
  {
   "cell_type": "markdown",
   "id": "aa8fa6d1-9ec9-4616-bc4e-cf5951720c9f",
   "metadata": {},
   "source": [
    "## Function"
   ]
  },
  {
   "cell_type": "code",
   "execution_count": 6,
   "id": "ba766b80-0bf2-4848-be89-0833276bfb59",
   "metadata": {},
   "outputs": [
    {
     "name": "stdout",
     "output_type": "stream",
     "text": [
      "Hello World\n"
     ]
    }
   ],
   "source": [
    "def my_function():\n",
    "    print('Hello World')\n",
    "my_function()"
   ]
  },
  {
   "cell_type": "code",
   "execution_count": 92,
   "id": "8bbf3116-9ef1-4ec2-8e21-46ead5d57e20",
   "metadata": {},
   "outputs": [
    {
     "name": "stdout",
     "output_type": "stream",
     "text": [
      "Sum of a and b is:  8\n",
      "Sum of a and b is:  10\n",
      "Sum of a and b is:  16\n"
     ]
    }
   ],
   "source": [
    "def add(a,b):\n",
    "    result=a+b\n",
    "    print('Sum of a and b is: ', result)\n",
    "\n",
    "add(3,5)\n",
    "add(4,6)\n",
    "add(7,9)"
   ]
  },
  {
   "cell_type": "markdown",
   "id": "f9f22607-311e-426b-98ca-bfcaf64c4983",
   "metadata": {},
   "source": [
    "### Write a function to calculate the exponentiation of two numbers"
   ]
  },
  {
   "cell_type": "code",
   "execution_count": 19,
   "id": "15f368cc-3aad-4f5f-8963-acad75a6275e",
   "metadata": {},
   "outputs": [
    {
     "name": "stdout",
     "output_type": "stream",
     "text": [
      "8\n",
      "4\n",
      "262144\n"
     ]
    }
   ],
   "source": [
    "def exp(a, b):\n",
    "    result = a ** b\n",
    "    print(result)\n",
    "\n",
    "exp(2,3)\n",
    "exp(2,2)\n",
    "exp(4,9)"
   ]
  },
  {
   "cell_type": "markdown",
   "id": "b7d04251-e70c-4490-9992-8cc1e9ca2000",
   "metadata": {},
   "source": [
    "### Return"
   ]
  },
  {
   "cell_type": "code",
   "execution_count": 30,
   "id": "32eec2c7-4dec-4e13-91b0-c8a5df8435d6",
   "metadata": {},
   "outputs": [
    {
     "name": "stdout",
     "output_type": "stream",
     "text": [
      "13\n"
     ]
    }
   ],
   "source": [
    "def add(a, b):\n",
    "    result = a + b\n",
    "    return result\n",
    "    \n",
    "result = add(4,9)\n",
    "print(result)"
   ]
  },
  {
   "cell_type": "markdown",
   "id": "213ad001-2311-4610-abeb-f5396ddda7ab",
   "metadata": {},
   "source": [
    "### Argument"
   ]
  },
  {
   "cell_type": "code",
   "execution_count": 37,
   "id": "086c6f45-9504-4d89-a325-61b295eb8fa3",
   "metadata": {},
   "outputs": [
    {
     "name": "stdout",
     "output_type": "stream",
     "text": [
      "Hello John\n"
     ]
    }
   ],
   "source": [
    "def greeting(name):\n",
    "    print('Hello'+' '+ name)\n",
    "\n",
    "greeting(\"John\")"
   ]
  },
  {
   "cell_type": "markdown",
   "id": "1b79eede-f3f3-42a4-8565-55305c789377",
   "metadata": {},
   "source": [
    "### Arguments Types\n",
    "#### 1. Arbitary Argumnet: \n",
    "##### function will return tuple if arguments when we add a * before argument name in function definition"
   ]
  },
  {
   "cell_type": "code",
   "execution_count": 49,
   "id": "c901bbe1-65b5-4956-a630-7a3a6974ec53",
   "metadata": {},
   "outputs": [
    {
     "name": "stdout",
     "output_type": "stream",
     "text": [
      "The brightest student is Krisha\n"
     ]
    }
   ],
   "source": [
    "def my_function(*student):\n",
    "    print('The brightest student is'+' '+student[0])\n",
    "\n",
    "my_function('Krisha', 'Rubi', 'Suravi', 'Dolma')"
   ]
  },
  {
   "cell_type": "markdown",
   "id": "9f49a7a2-bf72-4391-a54f-f6bb32b39e15",
   "metadata": {},
   "source": [
    "#### 2. Keyword Arguments: \n",
    "##### we can send arguments in key=value syntax. Order of argumemts doesnot matter"
   ]
  },
  {
   "cell_type": "code",
   "execution_count": 53,
   "id": "fca4287c-1733-4d3d-99e1-f2c457efdf46",
   "metadata": {},
   "outputs": [
    {
     "name": "stdout",
     "output_type": "stream",
     "text": [
      "The result is Tony\n"
     ]
    }
   ],
   "source": [
    "def my_function(a, b, c):\n",
    "    print('The result is '+a)\n",
    "\n",
    "my_function(a='Tony',b='John',c='Jenna')"
   ]
  },
  {
   "cell_type": "markdown",
   "id": "e4b6e145-cc7f-4eeb-afdb-2a0c3ccf8f2c",
   "metadata": {},
   "source": [
    "#### 3. Arbitary Keyword Argument\n",
    "##### returns the result in the form of dictionary"
   ]
  },
  {
   "cell_type": "code",
   "execution_count": 82,
   "id": "26d697d4-2bf0-43b2-a595-c462d3bea3a1",
   "metadata": {},
   "outputs": [
    {
     "name": "stdout",
     "output_type": "stream",
     "text": [
      "The brightest student is Tony\n",
      "{'student1': 'Tony', 'student2': 'John', 'student3': 'Jenna'}\n"
     ]
    }
   ],
   "source": [
    "def my_function(**student):\n",
    "    print('The brightest student is '+ student['student1'])\n",
    "    print(student)\n",
    "\n",
    "my_function(student1='Tony',student2='John',student3='Jenna')"
   ]
  },
  {
   "cell_type": "code",
   "execution_count": 80,
   "id": "c3ca60d9-b710-4492-937d-39e26a2d066b",
   "metadata": {},
   "outputs": [
    {
     "name": "stdout",
     "output_type": "stream",
     "text": [
      "{'name': 'Krisha', 'age': 22, 'address': 'Lalitpur'}\n",
      "Krisha\n"
     ]
    }
   ],
   "source": [
    "def data(**my_data):\n",
    "    print(my_data)\n",
    "    print(my_data['name'])\n",
    "\n",
    "data(name=\"Krisha\", age=22, address=\"Lalitpur\")"
   ]
  },
  {
   "cell_type": "markdown",
   "id": "20ed479a-cb7d-4d18-b97c-844f19027e03",
   "metadata": {},
   "source": [
    "#### 4. Default Argumnet"
   ]
  },
  {
   "cell_type": "code",
   "execution_count": 88,
   "id": "0a6712e0-b73e-4e1a-8858-c810d54f9649",
   "metadata": {},
   "outputs": [
    {
     "name": "stdout",
     "output_type": "stream",
     "text": [
      "I am from Norway\n",
      "I am from USA\n",
      "I am from Nepal\n",
      "I am from India\n"
     ]
    }
   ],
   "source": [
    "def my_function(country = 'Nepal'):\n",
    "    print('I am from ' +country)\n",
    "\n",
    "my_function('Norway')\n",
    "my_function('USA')\n",
    "my_function() # default argumnet\n",
    "my_function('India')"
   ]
  },
  {
   "cell_type": "code",
   "execution_count": 106,
   "id": "4396a7bb-09e0-4d75-aea7-03af48b74f49",
   "metadata": {},
   "outputs": [
    {
     "name": "stdout",
     "output_type": "stream",
     "text": [
      "2.0\n",
      "4.0\n"
     ]
    }
   ],
   "source": [
    "def add(a,b):\n",
    "    result=a/b\n",
    "    print(result)\n",
    "\n",
    "add(4, 2)\n",
    "add(16,4)\n",
    "\n",
    "#add(2,4,8) # will throw error "
   ]
  },
  {
   "cell_type": "markdown",
   "id": "ec67379e-30c1-4fb9-9e4d-ebde4be72b0d",
   "metadata": {},
   "source": [
    "### Lambda Function\n",
    "#### it can take any number of arguments but one expression"
   ]
  },
  {
   "cell_type": "code",
   "execution_count": 112,
   "id": "94089944-dd6e-4309-a701-b0be80e3b772",
   "metadata": {},
   "outputs": [
    {
     "name": "stdout",
     "output_type": "stream",
     "text": [
      "35\n"
     ]
    }
   ],
   "source": [
    "x = lambda a:a+5+10+15\n",
    "print(x(5))"
   ]
  },
  {
   "cell_type": "code",
   "execution_count": 117,
   "id": "f444ee70-270c-4fac-9349-61e8fad4d22d",
   "metadata": {},
   "outputs": [
    {
     "name": "stdout",
     "output_type": "stream",
     "text": [
      "20\n"
     ]
    }
   ],
   "source": [
    "x = lambda a, b:a*10+b*5\n",
    "print(x(1,2))"
   ]
  },
  {
   "cell_type": "code",
   "execution_count": 125,
   "id": "f0553d22-f4d5-4a8e-b270-ef2de006e306",
   "metadata": {},
   "outputs": [
    {
     "name": "stdout",
     "output_type": "stream",
     "text": [
      "24.5\n"
     ]
    }
   ],
   "source": [
    "x = lambda a,b,c,d,e:a*10+b*c+d/10+e\n",
    "print(x(2,1,3,5,1))"
   ]
  },
  {
   "cell_type": "code",
   "execution_count": 129,
   "id": "e5ef00b5-92c4-440e-bf54-8254b045a725",
   "metadata": {},
   "outputs": [
    {
     "name": "stdout",
     "output_type": "stream",
     "text": [
      "512\n"
     ]
    }
   ],
   "source": [
    "x = lambda a, b, c:a**b**c\n",
    "print(x(2,3, 2))"
   ]
  },
  {
   "cell_type": "code",
   "execution_count": 137,
   "id": "3c5fdae7-5e4a-4215-b3ab-b35d87a6a6fa",
   "metadata": {},
   "outputs": [
    {
     "name": "stdout",
     "output_type": "stream",
     "text": [
      "4.0\n"
     ]
    }
   ],
   "source": [
    "### square root using lambda function\n",
    "import math\n",
    "sqrt = lambda x:math.sqrt(x)\n",
    "result = sqrt(16)\n",
    "print(result)"
   ]
  },
  {
   "cell_type": "code",
   "execution_count": null,
   "id": "b2d70195-c5f9-494e-9d84-61b64095644b",
   "metadata": {},
   "outputs": [],
   "source": []
  }
 ],
 "metadata": {
  "kernelspec": {
   "display_name": "Python 3 (ipykernel)",
   "language": "python",
   "name": "python3"
  },
  "language_info": {
   "codemirror_mode": {
    "name": "ipython",
    "version": 3
   },
   "file_extension": ".py",
   "mimetype": "text/x-python",
   "name": "python",
   "nbconvert_exporter": "python",
   "pygments_lexer": "ipython3",
   "version": "3.12.4"
  }
 },
 "nbformat": 4,
 "nbformat_minor": 5
}
